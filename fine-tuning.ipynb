{
  "nbformat": 4,
  "nbformat_minor": 0,
  "metadata": {
    "colab": {
      "provenance": [],
      "gpuType": "T4",
      "authorship_tag": "ABX9TyO0A2Hduem65m5MQB+p9iCZ",
      "include_colab_link": true
    },
    "kernelspec": {
      "name": "python3",
      "display_name": "Python 3"
    },
    "language_info": {
      "name": "python"
    },
    "accelerator": "GPU",
    "widgets": {
      "application/vnd.jupyter.widget-state+json": {
        "76201e3cebf349de80f51dea6314ca85": {
          "model_module": "@jupyter-widgets/controls",
          "model_name": "HBoxModel",
          "model_module_version": "1.5.0",
          "state": {
            "_dom_classes": [],
            "_model_module": "@jupyter-widgets/controls",
            "_model_module_version": "1.5.0",
            "_model_name": "HBoxModel",
            "_view_count": null,
            "_view_module": "@jupyter-widgets/controls",
            "_view_module_version": "1.5.0",
            "_view_name": "HBoxView",
            "box_style": "",
            "children": [
              "IPY_MODEL_8d64483ecad3446f851eb491f021cb16",
              "IPY_MODEL_d20afecdce8e4d5aa4be6387102a4311",
              "IPY_MODEL_69fc55dd69fa4831b02e82dad3a6a645"
            ],
            "layout": "IPY_MODEL_dd0908f76c5d4df48f800c95001d6042"
          }
        },
        "8d64483ecad3446f851eb491f021cb16": {
          "model_module": "@jupyter-widgets/controls",
          "model_name": "HTMLModel",
          "model_module_version": "1.5.0",
          "state": {
            "_dom_classes": [],
            "_model_module": "@jupyter-widgets/controls",
            "_model_module_version": "1.5.0",
            "_model_name": "HTMLModel",
            "_view_count": null,
            "_view_module": "@jupyter-widgets/controls",
            "_view_module_version": "1.5.0",
            "_view_name": "HTMLView",
            "description": "",
            "description_tooltip": null,
            "layout": "IPY_MODEL_89db2d33b1954a7f8699374c9c3278c8",
            "placeholder": "​",
            "style": "IPY_MODEL_0284f65a46864c2ca37d7f3d7fcef466",
            "value": "Map: 100%"
          }
        },
        "d20afecdce8e4d5aa4be6387102a4311": {
          "model_module": "@jupyter-widgets/controls",
          "model_name": "FloatProgressModel",
          "model_module_version": "1.5.0",
          "state": {
            "_dom_classes": [],
            "_model_module": "@jupyter-widgets/controls",
            "_model_module_version": "1.5.0",
            "_model_name": "FloatProgressModel",
            "_view_count": null,
            "_view_module": "@jupyter-widgets/controls",
            "_view_module_version": "1.5.0",
            "_view_name": "ProgressView",
            "bar_style": "success",
            "description": "",
            "description_tooltip": null,
            "layout": "IPY_MODEL_40e03e5fb37a4a6d984c93920e1a9b5a",
            "max": 30,
            "min": 0,
            "orientation": "horizontal",
            "style": "IPY_MODEL_c50cbb8d85c44d84ae2c94ee25f5a4fc",
            "value": 30
          }
        },
        "69fc55dd69fa4831b02e82dad3a6a645": {
          "model_module": "@jupyter-widgets/controls",
          "model_name": "HTMLModel",
          "model_module_version": "1.5.0",
          "state": {
            "_dom_classes": [],
            "_model_module": "@jupyter-widgets/controls",
            "_model_module_version": "1.5.0",
            "_model_name": "HTMLModel",
            "_view_count": null,
            "_view_module": "@jupyter-widgets/controls",
            "_view_module_version": "1.5.0",
            "_view_name": "HTMLView",
            "description": "",
            "description_tooltip": null,
            "layout": "IPY_MODEL_20f91605b48242f7b9b0703993a9218c",
            "placeholder": "​",
            "style": "IPY_MODEL_cbda1c3c06a64e75bb63dd5b85c00ca0",
            "value": " 30/30 [00:00&lt;00:00, 320.00 examples/s]"
          }
        },
        "dd0908f76c5d4df48f800c95001d6042": {
          "model_module": "@jupyter-widgets/base",
          "model_name": "LayoutModel",
          "model_module_version": "1.2.0",
          "state": {
            "_model_module": "@jupyter-widgets/base",
            "_model_module_version": "1.2.0",
            "_model_name": "LayoutModel",
            "_view_count": null,
            "_view_module": "@jupyter-widgets/base",
            "_view_module_version": "1.2.0",
            "_view_name": "LayoutView",
            "align_content": null,
            "align_items": null,
            "align_self": null,
            "border": null,
            "bottom": null,
            "display": null,
            "flex": null,
            "flex_flow": null,
            "grid_area": null,
            "grid_auto_columns": null,
            "grid_auto_flow": null,
            "grid_auto_rows": null,
            "grid_column": null,
            "grid_gap": null,
            "grid_row": null,
            "grid_template_areas": null,
            "grid_template_columns": null,
            "grid_template_rows": null,
            "height": null,
            "justify_content": null,
            "justify_items": null,
            "left": null,
            "margin": null,
            "max_height": null,
            "max_width": null,
            "min_height": null,
            "min_width": null,
            "object_fit": null,
            "object_position": null,
            "order": null,
            "overflow": null,
            "overflow_x": null,
            "overflow_y": null,
            "padding": null,
            "right": null,
            "top": null,
            "visibility": null,
            "width": null
          }
        },
        "89db2d33b1954a7f8699374c9c3278c8": {
          "model_module": "@jupyter-widgets/base",
          "model_name": "LayoutModel",
          "model_module_version": "1.2.0",
          "state": {
            "_model_module": "@jupyter-widgets/base",
            "_model_module_version": "1.2.0",
            "_model_name": "LayoutModel",
            "_view_count": null,
            "_view_module": "@jupyter-widgets/base",
            "_view_module_version": "1.2.0",
            "_view_name": "LayoutView",
            "align_content": null,
            "align_items": null,
            "align_self": null,
            "border": null,
            "bottom": null,
            "display": null,
            "flex": null,
            "flex_flow": null,
            "grid_area": null,
            "grid_auto_columns": null,
            "grid_auto_flow": null,
            "grid_auto_rows": null,
            "grid_column": null,
            "grid_gap": null,
            "grid_row": null,
            "grid_template_areas": null,
            "grid_template_columns": null,
            "grid_template_rows": null,
            "height": null,
            "justify_content": null,
            "justify_items": null,
            "left": null,
            "margin": null,
            "max_height": null,
            "max_width": null,
            "min_height": null,
            "min_width": null,
            "object_fit": null,
            "object_position": null,
            "order": null,
            "overflow": null,
            "overflow_x": null,
            "overflow_y": null,
            "padding": null,
            "right": null,
            "top": null,
            "visibility": null,
            "width": null
          }
        },
        "0284f65a46864c2ca37d7f3d7fcef466": {
          "model_module": "@jupyter-widgets/controls",
          "model_name": "DescriptionStyleModel",
          "model_module_version": "1.5.0",
          "state": {
            "_model_module": "@jupyter-widgets/controls",
            "_model_module_version": "1.5.0",
            "_model_name": "DescriptionStyleModel",
            "_view_count": null,
            "_view_module": "@jupyter-widgets/base",
            "_view_module_version": "1.2.0",
            "_view_name": "StyleView",
            "description_width": ""
          }
        },
        "40e03e5fb37a4a6d984c93920e1a9b5a": {
          "model_module": "@jupyter-widgets/base",
          "model_name": "LayoutModel",
          "model_module_version": "1.2.0",
          "state": {
            "_model_module": "@jupyter-widgets/base",
            "_model_module_version": "1.2.0",
            "_model_name": "LayoutModel",
            "_view_count": null,
            "_view_module": "@jupyter-widgets/base",
            "_view_module_version": "1.2.0",
            "_view_name": "LayoutView",
            "align_content": null,
            "align_items": null,
            "align_self": null,
            "border": null,
            "bottom": null,
            "display": null,
            "flex": null,
            "flex_flow": null,
            "grid_area": null,
            "grid_auto_columns": null,
            "grid_auto_flow": null,
            "grid_auto_rows": null,
            "grid_column": null,
            "grid_gap": null,
            "grid_row": null,
            "grid_template_areas": null,
            "grid_template_columns": null,
            "grid_template_rows": null,
            "height": null,
            "justify_content": null,
            "justify_items": null,
            "left": null,
            "margin": null,
            "max_height": null,
            "max_width": null,
            "min_height": null,
            "min_width": null,
            "object_fit": null,
            "object_position": null,
            "order": null,
            "overflow": null,
            "overflow_x": null,
            "overflow_y": null,
            "padding": null,
            "right": null,
            "top": null,
            "visibility": null,
            "width": null
          }
        },
        "c50cbb8d85c44d84ae2c94ee25f5a4fc": {
          "model_module": "@jupyter-widgets/controls",
          "model_name": "ProgressStyleModel",
          "model_module_version": "1.5.0",
          "state": {
            "_model_module": "@jupyter-widgets/controls",
            "_model_module_version": "1.5.0",
            "_model_name": "ProgressStyleModel",
            "_view_count": null,
            "_view_module": "@jupyter-widgets/base",
            "_view_module_version": "1.2.0",
            "_view_name": "StyleView",
            "bar_color": null,
            "description_width": ""
          }
        },
        "20f91605b48242f7b9b0703993a9218c": {
          "model_module": "@jupyter-widgets/base",
          "model_name": "LayoutModel",
          "model_module_version": "1.2.0",
          "state": {
            "_model_module": "@jupyter-widgets/base",
            "_model_module_version": "1.2.0",
            "_model_name": "LayoutModel",
            "_view_count": null,
            "_view_module": "@jupyter-widgets/base",
            "_view_module_version": "1.2.0",
            "_view_name": "LayoutView",
            "align_content": null,
            "align_items": null,
            "align_self": null,
            "border": null,
            "bottom": null,
            "display": null,
            "flex": null,
            "flex_flow": null,
            "grid_area": null,
            "grid_auto_columns": null,
            "grid_auto_flow": null,
            "grid_auto_rows": null,
            "grid_column": null,
            "grid_gap": null,
            "grid_row": null,
            "grid_template_areas": null,
            "grid_template_columns": null,
            "grid_template_rows": null,
            "height": null,
            "justify_content": null,
            "justify_items": null,
            "left": null,
            "margin": null,
            "max_height": null,
            "max_width": null,
            "min_height": null,
            "min_width": null,
            "object_fit": null,
            "object_position": null,
            "order": null,
            "overflow": null,
            "overflow_x": null,
            "overflow_y": null,
            "padding": null,
            "right": null,
            "top": null,
            "visibility": null,
            "width": null
          }
        },
        "cbda1c3c06a64e75bb63dd5b85c00ca0": {
          "model_module": "@jupyter-widgets/controls",
          "model_name": "DescriptionStyleModel",
          "model_module_version": "1.5.0",
          "state": {
            "_model_module": "@jupyter-widgets/controls",
            "_model_module_version": "1.5.0",
            "_model_name": "DescriptionStyleModel",
            "_view_count": null,
            "_view_module": "@jupyter-widgets/base",
            "_view_module_version": "1.2.0",
            "_view_name": "StyleView",
            "description_width": ""
          }
        }
      }
    }
  },
  "cells": [
    {
      "cell_type": "markdown",
      "metadata": {
        "id": "view-in-github",
        "colab_type": "text"
      },
      "source": [
        "<a href=\"https://colab.research.google.com/github/syedfasihzaidi480/Fine-tune-a-Gpt-2-model-to-generate-math-riddles/blob/main/fine-tuning.ipynb\" target=\"_parent\"><img src=\"https://colab.research.google.com/assets/colab-badge.svg\" alt=\"Open In Colab\"/></a>"
      ]
    },
    {
      "cell_type": "code",
      "source": [
        "# Full dataset creation (10 original entries + 20 additional entries)\n",
        "additional_riddles = [\n",
        "    {\"riddle\": \"What number when doubled becomes three times itself minus 10?\", \"solution\": \"10\"},\n",
        "    {\"riddle\": \"I am thinking of a number. If you add 15 and then divide by 4, you get 5. What is it?\", \"solution\": \"5\"},\n",
        "    {\"riddle\": \"A number divided by 3 equals its double minus 15. What is the number?\", \"solution\": \"9\"},\n",
        "    {\"riddle\": \"What number decreases by 8 when you subtract a quarter of it?\", \"solution\": \"32\"},\n",
        "    {\"riddle\": \"If you multiply me by 5 and subtract 12, you get 48. What number am I?\", \"solution\": \"12\"},\n",
        "    {\"riddle\": \"What number becomes 100 when you add 25% of itself to it?\", \"solution\": \"80\"},\n",
        "    {\"riddle\": \"Twice a number plus three times itself equals 40. What's the number?\", \"solution\": \"8\"},\n",
        "    {\"riddle\": \"A number divided by 5 plus 7 equals 12. What is the number?\", \"solution\": \"25\"},\n",
        "    {\"riddle\": \"What number multiplied by itself gives 64 but becomes 10 when halved?\", \"solution\": \"8\"},\n",
        "    {\"riddle\": \"If you take away 7 from 5 times a number, you get 38. What's the number?\", \"solution\": \"9\"},\n",
        "    {\"riddle\": \"What number becomes 3 when you subtract its square root?\", \"solution\": \"9\"},\n",
        "    {\"riddle\": \"A number increased by 20% becomes 60. What was the original number?\", \"solution\": \"50\"},\n",
        "    {\"riddle\": \"Four times a number minus 6 equals twice the number plus 8. What is it?\", \"solution\": \"7\"},\n",
        "    {\"riddle\": \"What number divided by 0.5 gives the same result as adding 12 to it?\", \"solution\": \"8\"},\n",
        "    {\"riddle\": \"If you cube a number and subtract 8, you get 19. What's the number?\", \"solution\": \"3\"},\n",
        "    {\"riddle\": \"A number plus its reciprocal equals 2. What is the number?\", \"solution\": \"1\"},\n",
        "    {\"riddle\": \"What number becomes 1 when you calculate 3/4 of it plus 4?\", \"solution\": \"-4\"},\n",
        "    {\"riddle\": \"Three consecutive even numbers sum to 30. What's the smallest one?\", \"solution\": \"8\"},\n",
        "    {\"riddle\": \"A number squared minus 5 equals 20. What is the number?\", \"solution\": \"5\"},\n",
        "    {\"riddle\": \"What number multiplied by 1.5 gives the same result as adding 5 to it?\", \"solution\": \"10\"},\n",
        "]\n",
        "\n",
        "original_dataset = [\n",
        "    {\"riddle\": \"What number becomes zero when you subtract 15 from half of it?\", \"solution\": \"30\"},\n",
        "    {\"riddle\": \"I am a number. If you double me and add 8, you get 20. What am I?\", \"solution\": \"6\"},\n",
        "    {\"riddle\": \"What number increases by 5 when you divide it by 2?\", \"solution\": \"-10\"},\n",
        "    {\"riddle\": \"A number when multiplied by 3 gives 21. What is half of that number?\", \"solution\": \"3.5\"},\n",
        "    {\"riddle\": \"What number decreases by 12 when you subtract a third of it?\", \"solution\": \"18\"},\n",
        "    {\"riddle\": \"If you add 7 to me and multiply by 2, you get 34. What number am I?\", \"solution\": \"10\"},\n",
        "    {\"riddle\": \"A number's double divided by 4 equals 5. What's the number?\", \"solution\": \"10\"},\n",
        "    {\"riddle\": \"What number becomes 10 when you add 3 to half of it?\", \"solution\": \"14\"},\n",
        "    {\"riddle\": \"Twice a number plus 5 equals 17. What's the number?\", \"solution\": \"6\"},\n",
        "    {\"riddle\": \"What number divided by 3 and then added to 7 equals 12?\", \"solution\": \"15\"},\n",
        "]\n",
        "\n",
        "full_dataset = original_dataset + additional_riddles\n"
      ],
      "metadata": {
        "id": "fbrv6LfuK_YY"
      },
      "execution_count": 67,
      "outputs": []
    },
    {
      "cell_type": "code",
      "source": [
        "# Verify total count is 30\n",
        "assert len(full_dataset) == 30, f\"Dataset has {len(full_dataset)} entries instead of 30\"\n"
      ],
      "metadata": {
        "id": "bB4ctO_rLuzC"
      },
      "execution_count": 68,
      "outputs": []
    },
    {
      "cell_type": "code",
      "source": [
        "from transformers import GPT2Tokenizer, GPT2LMHeadModel, TrainingArguments, Trainer\n",
        "from datasets import Dataset\n"
      ],
      "metadata": {
        "id": "ADURl_T5Lwp1"
      },
      "execution_count": 69,
      "outputs": []
    },
    {
      "cell_type": "code",
      "source": [
        "# Load GPT-2 tokenizer and set padding token\n",
        "tokenizer = GPT2Tokenizer.from_pretrained(\"gpt2\")\n",
        "tokenizer.pad_token = tokenizer.eos_token"
      ],
      "metadata": {
        "id": "a-EoXPYhLyie"
      },
      "execution_count": 70,
      "outputs": []
    },
    {
      "cell_type": "code",
      "source": [
        "# Format dataset into a string prompt for each example\n",
        "formatted_data = [\n",
        "    f\"Riddle: {item['riddle']}\\nAnswer: {item['solution']}\\n\\n\"\n",
        "    for item in full_dataset\n",
        "]"
      ],
      "metadata": {
        "id": "S2kWFPthL0bX"
      },
      "execution_count": 71,
      "outputs": []
    },
    {
      "cell_type": "code",
      "source": [
        "# Create a Hugging Face dataset\n",
        "dataset = Dataset.from_dict({\"text\": formatted_data})\n"
      ],
      "metadata": {
        "id": "MMjve8fLL2QW"
      },
      "execution_count": 72,
      "outputs": []
    },
    {
      "cell_type": "code",
      "source": [
        "# Tokenization function for the dataset\n",
        "def tokenize_function(examples):\n",
        "    # Tokenize both the riddle and the answer, then combine them\n",
        "    riddle_tokens = tokenizer(examples[\"text\"], padding=\"max_length\", truncation=True, max_length=128, return_tensors=\"pt\")\n",
        "    # We use the same tokenizer for the labels (targets)\n",
        "    # Shift the labels by one position to the right for causal language modeling\n",
        "    labels = riddle_tokens.input_ids.clone()\n",
        "    # Replace padding token with -100 to ignore loss calculation on padding tokens\n",
        "    labels[labels == tokenizer.pad_token_id] = -100\n",
        "\n",
        "    riddle_tokens[\"labels\"] = labels  # Add the labels to the tokenized output\n",
        "    return riddle_tokens\n",
        "\n",
        "tokenized_dataset = dataset.map(tokenize_function, batched=True)"
      ],
      "metadata": {
        "colab": {
          "base_uri": "https://localhost:8080/",
          "height": 49,
          "referenced_widgets": [
            "76201e3cebf349de80f51dea6314ca85",
            "8d64483ecad3446f851eb491f021cb16",
            "d20afecdce8e4d5aa4be6387102a4311",
            "69fc55dd69fa4831b02e82dad3a6a645",
            "dd0908f76c5d4df48f800c95001d6042",
            "89db2d33b1954a7f8699374c9c3278c8",
            "0284f65a46864c2ca37d7f3d7fcef466",
            "40e03e5fb37a4a6d984c93920e1a9b5a",
            "c50cbb8d85c44d84ae2c94ee25f5a4fc",
            "20f91605b48242f7b9b0703993a9218c",
            "cbda1c3c06a64e75bb63dd5b85c00ca0"
          ]
        },
        "id": "NS1T52aOL6jX",
        "outputId": "fa0f9bcd-3aec-4ab2-d5d9-24eeff2b8066"
      },
      "execution_count": 78,
      "outputs": [
        {
          "output_type": "display_data",
          "data": {
            "text/plain": [
              "Map:   0%|          | 0/30 [00:00<?, ? examples/s]"
            ],
            "application/vnd.jupyter.widget-view+json": {
              "version_major": 2,
              "version_minor": 0,
              "model_id": "76201e3cebf349de80f51dea6314ca85"
            }
          },
          "metadata": {}
        }
      ]
    },
    {
      "cell_type": "code",
      "source": [
        "# Load the pre-trained GPT-2 model\n",
        "model = GPT2LMHeadModel.from_pretrained(\"gpt2\")\n"
      ],
      "metadata": {
        "id": "Ta6J7M35L9Rf"
      },
      "execution_count": 79,
      "outputs": []
    },
    {
      "cell_type": "code",
      "source": [
        "# Define training arguments\n",
        "training_args = TrainingArguments(\n",
        "    output_dir=\"./results\",\n",
        "    num_train_epochs=3,\n",
        "    per_device_train_batch_size=2,\n",
        "    save_steps=500,\n",
        "    logging_steps=100,\n",
        ")"
      ],
      "metadata": {
        "id": "bRG-7qJYL_hW"
      },
      "execution_count": 80,
      "outputs": []
    },
    {
      "cell_type": "code",
      "source": [
        "# Create Trainer object\n",
        "trainer = Trainer(\n",
        "    model=model,\n",
        "    args=training_args,\n",
        "    train_dataset=tokenized_dataset,\n",
        ")"
      ],
      "metadata": {
        "id": "26AalgxZMCFp"
      },
      "execution_count": 81,
      "outputs": []
    },
    {
      "cell_type": "code",
      "source": [
        "\n",
        "# Fine-tune the model\n",
        "trainer.train()\n"
      ],
      "metadata": {
        "colab": {
          "base_uri": "https://localhost:8080/",
          "height": 130
        },
        "id": "gcp_6mDOMD9o",
        "outputId": "6529c05a-6190-4b43-b7ed-017e162ade52"
      },
      "execution_count": 82,
      "outputs": [
        {
          "output_type": "display_data",
          "data": {
            "text/plain": [
              "<IPython.core.display.HTML object>"
            ],
            "text/html": [
              "\n",
              "    <div>\n",
              "      \n",
              "      <progress value='45' max='45' style='width:300px; height:20px; vertical-align: middle;'></progress>\n",
              "      [45/45 00:16, Epoch 3/3]\n",
              "    </div>\n",
              "    <table border=\"1\" class=\"dataframe\">\n",
              "  <thead>\n",
              " <tr style=\"text-align: left;\">\n",
              "      <th>Step</th>\n",
              "      <th>Training Loss</th>\n",
              "    </tr>\n",
              "  </thead>\n",
              "  <tbody>\n",
              "  </tbody>\n",
              "</table><p>"
            ]
          },
          "metadata": {}
        },
        {
          "output_type": "execute_result",
          "data": {
            "text/plain": [
              "TrainOutput(global_step=45, training_loss=1.9594416300455728, metrics={'train_runtime': 17.1172, 'train_samples_per_second': 5.258, 'train_steps_per_second': 2.629, 'total_flos': 5879070720000.0, 'train_loss': 1.9594416300455728, 'epoch': 3.0})"
            ]
          },
          "metadata": {},
          "execution_count": 82
        }
      ]
    },
    {
      "cell_type": "code",
      "source": [
        "# Save the fine-tuned model and tokenizer for future use\n",
        "model_save_path = \"./final_model\"\n",
        "model.save_pretrained(model_save_path)\n",
        "tokenizer.save_pretrained(model_save_path)\n"
      ],
      "metadata": {
        "colab": {
          "base_uri": "https://localhost:8080/"
        },
        "id": "CKZxAqvNMF3y",
        "outputId": "a37cecbd-9dbe-491e-f1ed-5258b651a3e2"
      },
      "execution_count": 83,
      "outputs": [
        {
          "output_type": "execute_result",
          "data": {
            "text/plain": [
              "('./final_model/tokenizer_config.json',\n",
              " './final_model/special_tokens_map.json',\n",
              " './final_model/vocab.json',\n",
              " './final_model/merges.txt',\n",
              " './final_model/added_tokens.json')"
            ]
          },
          "metadata": {},
          "execution_count": 83
        }
      ]
    },
    {
      "cell_type": "code",
      "source": [
        "# Set model to evaluation mode\n",
        "model.eval()\n",
        "\n",
        "def generate_riddle(prompt):\n",
        "    # Tokenize input and move tensors to the model's device (e.g., cuda)\n",
        "    inputs = tokenizer(prompt, return_tensors=\"pt\")\n",
        "    inputs = {key: tensor.to(model.device) for key, tensor in inputs.items()}\n",
        "\n",
        "    outputs = model.generate(\n",
        "        inputs[\"input_ids\"],\n",
        "        max_length=100,\n",
        "        num_return_sequences=1,\n",
        "        do_sample=True,          # enable sampling for more diversity\n",
        "        temperature=1.0,         # adjust temperature for variability\n",
        "        top_k=50,                # consider top 50 tokens\n",
        "        top_p=0.95,              # nucleus sampling\n",
        "        pad_token_id=tokenizer.eos_token_id\n",
        "    )\n",
        "\n",
        "    return tokenizer.decode(outputs[0], skip_special_tokens=True)\n",
        "\n",
        "if __name__ == '__main__':\n",
        "    # Get user input for the number of riddles to generate\n",
        "    num_riddles = int(input(\"Enter the number of riddles to generate: \"))\n",
        "\n",
        "    # Get custom riddle prompt from the user (default is \"Riddle:\")\n",
        "    custom_prompt = input(\"Enter your riddle prompt (press Enter to use default 'Riddle:'): \")\n",
        "    if not custom_prompt.strip():\n",
        "        custom_prompt = \"Riddle:\"\n",
        "\n",
        "    print(\"\\nGenerated Riddles:\\n\")\n",
        "    for _ in range(num_riddles):\n",
        "        print(generate_riddle(custom_prompt))\n",
        "        print(\"\\n\" + \"-\" * 50 + \"\\n\")\n",
        "\n",
        "    # Generate and print 3 best riddles (assumed to include both riddle and answer)\n",
        "    print(\"## Best 3 Generated Riddles:\")\n",
        "    best_riddles = []\n",
        "    for i in range(3):\n",
        "        riddle_output = generate_riddle(custom_prompt)\n",
        "        best_riddles.append(riddle_output)\n",
        "\n",
        "    for idx, riddle in enumerate(best_riddles):\n",
        "        print(f\"**{idx+1}. Riddle & Answer:**\\n{riddle}\\n\")"
      ],
      "metadata": {
        "colab": {
          "base_uri": "https://localhost:8080/"
        },
        "id": "lewPbC6WMZvd",
        "outputId": "32f32554-5112-416b-eb63-b34594385493"
      },
      "execution_count": 84,
      "outputs": [
        {
          "output_type": "stream",
          "name": "stdout",
          "text": [
            "Enter the number of riddles to generate: 3\n",
            "Enter your riddle prompt (press Enter to use default 'Riddle:'): \n",
            "\n",
            "Generated Riddles:\n",
            "\n",
            "Riddle: Two numbers of 12 plus three are double. What is the number?\n",
            "Answer: 8\n",
            "\n",
            "How many is it?\n",
            "Answer: 20\n",
            "\n",
            "How many times it adds up to 4?\n",
            "Answer: 23\n",
            "\n",
            "A number of 20 is 5 times 20. What am I?\n",
            "\n",
            "Answer: 8\n",
            "\n",
            "What is the number?\n",
            "\n",
            "Answer: 9\n",
            "\n",
            "Answer: 22\n",
            "\n",
            "A number of 9 equals 16. What am I?\n",
            "\n",
            "Answer: 32\n",
            "\n",
            "What is the number?\n",
            "\n",
            "\n",
            "\n",
            "--------------------------------------------------\n",
            "\n",
            "Riddle: What number becomes 12 when you subtract 1 from it minus 5?\n",
            "Answer: 9\n",
            "\n",
            "Question: A number is divided by 3 when you multiply it by 5. What number?\n",
            "Answer: 3\n",
            "\n",
            "Answer: 9\n",
            "\n",
            "Now you get 10. What number is that?\n",
            "\n",
            "Answer: 17\n",
            "\n",
            "So you get 18. What's that?\n",
            "\n",
            "Answer: 10\n",
            "\n",
            "I've been waiting for you to answer these questions for a while. What's your answer?\n",
            "\n",
            "The number?\n",
            "\n",
            "--------------------------------------------------\n",
            "\n",
            "Riddle: If I add 10 to the square of 9 and subtract half of that number, what is it?\n",
            "Answer: 17\n",
            "\n",
            "Answer: What is the number?\n",
            "\n",
            "Answer: 6\n",
            "\n",
            "Answer: 12\n",
            "\n",
            "Answer: 12\n",
            "\n",
            "Answer: 15\n",
            "\n",
            "Answer: 20\n",
            "\n",
            "What is your number?\n",
            "\n",
            "Answer: 17\n",
            "\n",
            "Answer: 7\n",
            "\n",
            "Answer: 8\n",
            "\n",
            "Answer: 9\n",
            "\n",
            "What is your height?\n",
            "\n",
            "Answer: 19\n",
            "\n",
            "Answer: 17\n",
            "\n",
            "Answer: 8\n",
            "\n",
            "Answer: 10\n",
            "\n",
            "\n",
            "\n",
            "--------------------------------------------------\n",
            "\n",
            "## Best 3 Generated Riddles:\n",
            "**1. Riddle & Answer:**\n",
            "Riddle: When you take a number, divide it by 4 and subtract 12. What's the same as subtract 12?\n",
            "Answer: 5\n",
            "\n",
            "Answer: 5\n",
            "\n",
            "Answer: 7\n",
            "\n",
            "Answer: 8\n",
            "\n",
            "Answer: 9\n",
            "\n",
            "Answer: 10\n",
            "\n",
            "Answer: 11\n",
            "\n",
            "Answer: 12\n",
            "\n",
            "Answer: 13\n",
            "\n",
            "Answer: 14\n",
            "\n",
            "Answer: 15\n",
            "\n",
            "Answer: 16\n",
            "\n",
            "Answer: 17\n",
            "\n",
            "Answer: 18\n",
            "\n",
            "Answer: 19\n",
            "\n",
            "Answer: 20\n",
            "\n",
            "Answer: 21\n",
            "\n",
            "Answer: 22\n",
            "\n",
            "Answer:\n",
            "\n",
            "**2. Riddle & Answer:**\n",
            "Riddle: Can a number plus 2 get a number minus 4 times its square root?\n",
            "Answer: 5\n",
            "\n",
            "Answer: 10\n",
            "\n",
            "Question: What number equals 12?\n",
            "Answer: 20\n",
            "\n",
            "Answer: 40\n",
            "\n",
            "Answer: 100\n",
            "\n",
            "Answer: 300\n",
            "\n",
            "Add six to the end of your number. What's your number?\n",
            "\n",
            "Answer: 100\n",
            "\n",
            "Answer: 320\n",
            "\n",
            "Answer: 200\n",
            "\n",
            "Add 15 to the end. What's your number?\n",
            "\n",
            "Answer: 80\n",
            "\n",
            "Answer: 40\n",
            "\n",
            "Answer:\n",
            "\n",
            "**3. Riddle & Answer:**\n",
            "Riddle: A number divided by 3.5 equals 12. What is the number?\n",
            "Answer: 10\n",
            "\n",
            "A few more questions.\n",
            "\n",
            "Answer: 20\n",
            "\n",
            "Answer: 25\n",
            "\n",
            "Answer: 36\n",
            "\n",
            "Answer: 50\n",
            "\n",
            "Answer: 75\n",
            "\n",
            "Answer: 100\n",
            "\n",
            "Answer: 120\n",
            "\n",
            "Answer: 200\n",
            "\n",
            "Answer: 350\n",
            "\n",
            "Answer: 425\n",
            "\n",
            "Answer: 460\n",
            "\n",
            "Answer: 566\n",
            "\n",
            "Answer: 860\n",
            "\n",
            "Answer: 955\n",
            "\n",
            "Answer: 1050\n",
            "\n",
            "Answer: 1100\n",
            "\n",
            "Answer: 1400\n",
            "\n",
            "\n",
            "\n"
          ]
        }
      ]
    },
    {
      "cell_type": "code",
      "source": [],
      "metadata": {
        "id": "hN8Vu1rMMbm1"
      },
      "execution_count": null,
      "outputs": []
    }
  ]
}